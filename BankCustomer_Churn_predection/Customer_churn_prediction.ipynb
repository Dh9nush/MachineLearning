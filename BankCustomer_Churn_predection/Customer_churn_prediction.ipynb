{
 "cells": [
  {
   "cell_type": "markdown",
   "id": "159bac43",
   "metadata": {},
   "source": [
    "# We are Gonna Analyse and Prepare a model For predicting Whether customer will Churn or Not "
   ]
  },
  {
   "cell_type": "markdown",
   "id": "44a57568",
   "metadata": {},
   "source": [
    "# Import necessary libraries\n",
    "\n"
   ]
  },
  {
   "cell_type": "code",
   "execution_count": 1,
   "id": "cd190202",
   "metadata": {},
   "outputs": [],
   "source": [
    "import numpy as np \n",
    "import pandas as pd \n",
    "import matplotlib.pyplot as plt\n",
    "import seaborn as sns\n",
    "\n",
    "from sklearn.metrics import accuracy_score,f1_score,confusion_matrix,roc_curve,roc_auc_score,recall_score,precision_score\n",
    "from sklearn.linear_model import LogisticRegression\n",
    "from sklearn.model_selection import StratifiedKFold\n",
    "import warnings\n",
    "warnings.simplefilter(action='ignore', category=FutureWarning)\n",
    "warnings.simplefilter(action='ignore', category=UserWarning)\n",
    "\n"
   ]
  },
  {
   "cell_type": "markdown",
   "id": "6a4449b2",
   "metadata": {},
   "source": [
    "# Loading Dataset"
   ]
  },
  {
   "cell_type": "code",
   "execution_count": 2,
   "id": "52b5a205",
   "metadata": {},
   "outputs": [
    {
     "data": {
      "text/html": [
       "<div>\n",
       "<style scoped>\n",
       "    .dataframe tbody tr th:only-of-type {\n",
       "        vertical-align: middle;\n",
       "    }\n",
       "\n",
       "    .dataframe tbody tr th {\n",
       "        vertical-align: top;\n",
       "    }\n",
       "\n",
       "    .dataframe thead th {\n",
       "        text-align: right;\n",
       "    }\n",
       "</style>\n",
       "<table border=\"1\" class=\"dataframe\">\n",
       "  <thead>\n",
       "    <tr style=\"text-align: right;\">\n",
       "      <th></th>\n",
       "      <th>customer_id</th>\n",
       "      <th>vintage</th>\n",
       "      <th>age</th>\n",
       "      <th>gender</th>\n",
       "      <th>dependents</th>\n",
       "      <th>occupation</th>\n",
       "      <th>city</th>\n",
       "      <th>customer_nw_category</th>\n",
       "      <th>branch_code</th>\n",
       "      <th>days_since_last_transaction</th>\n",
       "      <th>...</th>\n",
       "      <th>previous_month_end_balance</th>\n",
       "      <th>average_monthly_balance_prevQ</th>\n",
       "      <th>average_monthly_balance_prevQ2</th>\n",
       "      <th>current_month_credit</th>\n",
       "      <th>previous_month_credit</th>\n",
       "      <th>current_month_debit</th>\n",
       "      <th>previous_month_debit</th>\n",
       "      <th>current_month_balance</th>\n",
       "      <th>previous_month_balance</th>\n",
       "      <th>churn</th>\n",
       "    </tr>\n",
       "  </thead>\n",
       "  <tbody>\n",
       "    <tr>\n",
       "      <th>0</th>\n",
       "      <td>1</td>\n",
       "      <td>3135</td>\n",
       "      <td>66</td>\n",
       "      <td>Male</td>\n",
       "      <td>0.0</td>\n",
       "      <td>self_employed</td>\n",
       "      <td>187.0</td>\n",
       "      <td>2</td>\n",
       "      <td>755</td>\n",
       "      <td>224.0</td>\n",
       "      <td>...</td>\n",
       "      <td>1458.71</td>\n",
       "      <td>1458.71</td>\n",
       "      <td>1449.07</td>\n",
       "      <td>0.20</td>\n",
       "      <td>0.20</td>\n",
       "      <td>0.20</td>\n",
       "      <td>0.20</td>\n",
       "      <td>1458.71</td>\n",
       "      <td>1458.71</td>\n",
       "      <td>0</td>\n",
       "    </tr>\n",
       "    <tr>\n",
       "      <th>1</th>\n",
       "      <td>2</td>\n",
       "      <td>310</td>\n",
       "      <td>35</td>\n",
       "      <td>Male</td>\n",
       "      <td>0.0</td>\n",
       "      <td>self_employed</td>\n",
       "      <td>NaN</td>\n",
       "      <td>2</td>\n",
       "      <td>3214</td>\n",
       "      <td>60.0</td>\n",
       "      <td>...</td>\n",
       "      <td>8704.66</td>\n",
       "      <td>7799.26</td>\n",
       "      <td>12419.41</td>\n",
       "      <td>0.56</td>\n",
       "      <td>0.56</td>\n",
       "      <td>5486.27</td>\n",
       "      <td>100.56</td>\n",
       "      <td>6496.78</td>\n",
       "      <td>8787.61</td>\n",
       "      <td>0</td>\n",
       "    </tr>\n",
       "    <tr>\n",
       "      <th>2</th>\n",
       "      <td>4</td>\n",
       "      <td>2356</td>\n",
       "      <td>31</td>\n",
       "      <td>Male</td>\n",
       "      <td>0.0</td>\n",
       "      <td>salaried</td>\n",
       "      <td>146.0</td>\n",
       "      <td>2</td>\n",
       "      <td>41</td>\n",
       "      <td>NaN</td>\n",
       "      <td>...</td>\n",
       "      <td>5815.29</td>\n",
       "      <td>4910.17</td>\n",
       "      <td>2815.94</td>\n",
       "      <td>0.61</td>\n",
       "      <td>0.61</td>\n",
       "      <td>6046.73</td>\n",
       "      <td>259.23</td>\n",
       "      <td>5006.28</td>\n",
       "      <td>5070.14</td>\n",
       "      <td>0</td>\n",
       "    </tr>\n",
       "    <tr>\n",
       "      <th>3</th>\n",
       "      <td>5</td>\n",
       "      <td>478</td>\n",
       "      <td>90</td>\n",
       "      <td>NaN</td>\n",
       "      <td>NaN</td>\n",
       "      <td>self_employed</td>\n",
       "      <td>1020.0</td>\n",
       "      <td>2</td>\n",
       "      <td>582</td>\n",
       "      <td>147.0</td>\n",
       "      <td>...</td>\n",
       "      <td>2291.91</td>\n",
       "      <td>2084.54</td>\n",
       "      <td>1006.54</td>\n",
       "      <td>0.47</td>\n",
       "      <td>0.47</td>\n",
       "      <td>0.47</td>\n",
       "      <td>2143.33</td>\n",
       "      <td>2291.91</td>\n",
       "      <td>1669.79</td>\n",
       "      <td>1</td>\n",
       "    </tr>\n",
       "    <tr>\n",
       "      <th>4</th>\n",
       "      <td>6</td>\n",
       "      <td>2531</td>\n",
       "      <td>42</td>\n",
       "      <td>Male</td>\n",
       "      <td>2.0</td>\n",
       "      <td>self_employed</td>\n",
       "      <td>1494.0</td>\n",
       "      <td>3</td>\n",
       "      <td>388</td>\n",
       "      <td>58.0</td>\n",
       "      <td>...</td>\n",
       "      <td>1401.72</td>\n",
       "      <td>1643.31</td>\n",
       "      <td>1871.12</td>\n",
       "      <td>0.33</td>\n",
       "      <td>714.61</td>\n",
       "      <td>588.62</td>\n",
       "      <td>1538.06</td>\n",
       "      <td>1157.15</td>\n",
       "      <td>1677.16</td>\n",
       "      <td>1</td>\n",
       "    </tr>\n",
       "  </tbody>\n",
       "</table>\n",
       "<p>5 rows × 21 columns</p>\n",
       "</div>"
      ],
      "text/plain": [
       "   customer_id  vintage  age gender  dependents     occupation    city  \\\n",
       "0            1     3135   66   Male         0.0  self_employed   187.0   \n",
       "1            2      310   35   Male         0.0  self_employed     NaN   \n",
       "2            4     2356   31   Male         0.0       salaried   146.0   \n",
       "3            5      478   90    NaN         NaN  self_employed  1020.0   \n",
       "4            6     2531   42   Male         2.0  self_employed  1494.0   \n",
       "\n",
       "   customer_nw_category  branch_code  days_since_last_transaction  ...  \\\n",
       "0                     2          755                        224.0  ...   \n",
       "1                     2         3214                         60.0  ...   \n",
       "2                     2           41                          NaN  ...   \n",
       "3                     2          582                        147.0  ...   \n",
       "4                     3          388                         58.0  ...   \n",
       "\n",
       "   previous_month_end_balance  average_monthly_balance_prevQ  \\\n",
       "0                     1458.71                        1458.71   \n",
       "1                     8704.66                        7799.26   \n",
       "2                     5815.29                        4910.17   \n",
       "3                     2291.91                        2084.54   \n",
       "4                     1401.72                        1643.31   \n",
       "\n",
       "   average_monthly_balance_prevQ2  current_month_credit  \\\n",
       "0                         1449.07                  0.20   \n",
       "1                        12419.41                  0.56   \n",
       "2                         2815.94                  0.61   \n",
       "3                         1006.54                  0.47   \n",
       "4                         1871.12                  0.33   \n",
       "\n",
       "   previous_month_credit  current_month_debit  previous_month_debit  \\\n",
       "0                   0.20                 0.20                  0.20   \n",
       "1                   0.56              5486.27                100.56   \n",
       "2                   0.61              6046.73                259.23   \n",
       "3                   0.47                 0.47               2143.33   \n",
       "4                 714.61               588.62               1538.06   \n",
       "\n",
       "   current_month_balance  previous_month_balance  churn  \n",
       "0                1458.71                 1458.71      0  \n",
       "1                6496.78                 8787.61      0  \n",
       "2                5006.28                 5070.14      0  \n",
       "3                2291.91                 1669.79      1  \n",
       "4                1157.15                 1677.16      1  \n",
       "\n",
       "[5 rows x 21 columns]"
      ]
     },
     "execution_count": 2,
     "metadata": {},
     "output_type": "execute_result"
    }
   ],
   "source": [
    "df=pd.read_csv('churn_prediction.csv')\n",
    "df.head()"
   ]
  },
  {
   "cell_type": "code",
   "execution_count": 3,
   "id": "2d4959f2",
   "metadata": {},
   "outputs": [
    {
     "data": {
      "text/plain": [
       "(28382, 21)"
      ]
     },
     "execution_count": 3,
     "metadata": {},
     "output_type": "execute_result"
    }
   ],
   "source": [
    "df.shape\n"
   ]
  },
  {
   "cell_type": "code",
   "execution_count": 4,
   "id": "a3099091",
   "metadata": {},
   "outputs": [
    {
     "data": {
      "text/plain": [
       "28382"
      ]
     },
     "execution_count": 4,
     "metadata": {},
     "output_type": "execute_result"
    }
   ],
   "source": [
    "len(df.customer_id.unique())"
   ]
  },
  {
   "cell_type": "markdown",
   "id": "3e3fcff7",
   "metadata": {},
   "source": [
    "- all Customers are Unique and There is No duplicates"
   ]
  },
  {
   "cell_type": "code",
   "execution_count": 5,
   "id": "c72e56f7",
   "metadata": {},
   "outputs": [
    {
     "data": {
      "text/plain": [
       "customer_id                          0\n",
       "vintage                              0\n",
       "age                                  0\n",
       "gender                             525\n",
       "dependents                        2463\n",
       "occupation                          80\n",
       "city                               803\n",
       "customer_nw_category                 0\n",
       "branch_code                          0\n",
       "days_since_last_transaction       3223\n",
       "current_balance                      0\n",
       "previous_month_end_balance           0\n",
       "average_monthly_balance_prevQ        0\n",
       "average_monthly_balance_prevQ2       0\n",
       "current_month_credit                 0\n",
       "previous_month_credit                0\n",
       "current_month_debit                  0\n",
       "previous_month_debit                 0\n",
       "current_month_balance                0\n",
       "previous_month_balance               0\n",
       "churn                                0\n",
       "dtype: int64"
      ]
     },
     "execution_count": 5,
     "metadata": {},
     "output_type": "execute_result"
    }
   ],
   "source": [
    "df.isnull().sum()"
   ]
  },
  {
   "cell_type": "markdown",
   "id": "211853a4",
   "metadata": {},
   "source": [
    "- Lots of Null values can be seen in data "
   ]
  },
  {
   "cell_type": "markdown",
   "id": "3db9b88d",
   "metadata": {},
   "source": [
    "# Data Imputing"
   ]
  },
  {
   "cell_type": "code",
   "execution_count": 6,
   "id": "24f5d8fe",
   "metadata": {},
   "outputs": [],
   "source": [
    "df_c=df.copy()"
   ]
  },
  {
   "cell_type": "markdown",
   "id": "af15e633",
   "metadata": {},
   "source": [
    "- i like to keep my original different and do prprocessing with copies"
   ]
  },
  {
   "cell_type": "code",
   "execution_count": 7,
   "id": "e23642b4",
   "metadata": {},
   "outputs": [
    {
     "data": {
      "text/plain": [
       "Male      16548\n",
       "Female    11309\n",
       "Name: gender, dtype: int64"
      ]
     },
     "execution_count": 7,
     "metadata": {},
     "output_type": "execute_result"
    }
   ],
   "source": [
    "df_c.gender.value_counts()"
   ]
  },
  {
   "cell_type": "markdown",
   "id": "8e2ade68",
   "metadata": {},
   "source": [
    "- as we can see male and female population is closely same ,better just fill null values with new variable instead "
   ]
  },
  {
   "cell_type": "code",
   "execution_count": 8,
   "id": "c86a1f23",
   "metadata": {},
   "outputs": [],
   "source": [
    "dict_gen={'Male': 0,\n",
    "          'Female': 1}\n",
    "df_c['gender']=df_c['gender'].map(dict_gen)\n",
    "\n"
   ]
  },
  {
   "cell_type": "code",
   "execution_count": 9,
   "id": "e3c0d52b",
   "metadata": {},
   "outputs": [],
   "source": [
    "df_c['gender']=df_c.gender.fillna(-1)"
   ]
  },
  {
   "cell_type": "code",
   "execution_count": 10,
   "id": "b7eeef1f",
   "metadata": {},
   "outputs": [
    {
     "data": {
      "text/plain": [
       " 0.0    16548\n",
       " 1.0    11309\n",
       "-1.0      525\n",
       "Name: gender, dtype: int64"
      ]
     },
     "execution_count": 10,
     "metadata": {},
     "output_type": "execute_result"
    }
   ],
   "source": [
    "df_c.gender.value_counts()"
   ]
  },
  {
   "cell_type": "code",
   "execution_count": 11,
   "id": "8fe39f1f",
   "metadata": {},
   "outputs": [
    {
     "data": {
      "text/plain": [
       "0.0     21435\n",
       "2.0      2150\n",
       "1.0      1395\n",
       "3.0       701\n",
       "4.0       179\n",
       "5.0        41\n",
       "6.0         8\n",
       "7.0         3\n",
       "9.0         1\n",
       "52.0        1\n",
       "36.0        1\n",
       "50.0        1\n",
       "8.0         1\n",
       "25.0        1\n",
       "32.0        1\n",
       "Name: dependents, dtype: int64"
      ]
     },
     "execution_count": 11,
     "metadata": {},
     "output_type": "execute_result"
    }
   ],
   "source": [
    "df_c.dependents.value_counts()"
   ]
  },
  {
   "cell_type": "markdown",
   "id": "91927df2",
   "metadata": {},
   "source": [
    "- as we can most percentage of dependents is at zero so filling na with mode"
   ]
  },
  {
   "cell_type": "code",
   "execution_count": 12,
   "id": "a436cf58",
   "metadata": {},
   "outputs": [],
   "source": [
    "dep_mode=df.dependents.mode()[0]\n",
    "df_c['dependents']=df_c['dependents'].fillna(dep_mode)"
   ]
  },
  {
   "cell_type": "code",
   "execution_count": 13,
   "id": "11248951",
   "metadata": {},
   "outputs": [
    {
     "data": {
      "text/plain": [
       "0"
      ]
     },
     "execution_count": 13,
     "metadata": {},
     "output_type": "execute_result"
    }
   ],
   "source": [
    "df_c.dependents.isna().sum()"
   ]
  },
  {
   "cell_type": "code",
   "execution_count": 14,
   "id": "07975805",
   "metadata": {},
   "outputs": [
    {
     "data": {
      "text/plain": [
       "self_employed    17476\n",
       "salaried          6704\n",
       "student           2058\n",
       "retired           2024\n",
       "company             40\n",
       "Name: occupation, dtype: int64"
      ]
     },
     "execution_count": 14,
     "metadata": {},
     "output_type": "execute_result"
    }
   ],
   "source": [
    "df_c.occupation.value_counts()"
   ]
  },
  {
   "cell_type": "markdown",
   "id": "c5bf5c83",
   "metadata": {},
   "source": [
    "- similarly most occupation is self employed so better just fill na with those"
   ]
  },
  {
   "cell_type": "code",
   "execution_count": 15,
   "id": "ca4e333d",
   "metadata": {},
   "outputs": [],
   "source": [
    "df_c.occupation=df_c.occupation.fillna(df_c.occupation.mode()[0])"
   ]
  },
  {
   "cell_type": "code",
   "execution_count": 16,
   "id": "196067ea",
   "metadata": {},
   "outputs": [
    {
     "data": {
      "text/plain": [
       "0"
      ]
     },
     "execution_count": 16,
     "metadata": {},
     "output_type": "execute_result"
    }
   ],
   "source": [
    "df_c.occupation.isna().sum()"
   ]
  },
  {
   "cell_type": "code",
   "execution_count": 17,
   "id": "697f8fcb",
   "metadata": {},
   "outputs": [
    {
     "data": {
      "text/plain": [
       "0    1020.0\n",
       "Name: city, dtype: float64"
      ]
     },
     "execution_count": 17,
     "metadata": {},
     "output_type": "execute_result"
    }
   ],
   "source": [
    "df_c.city.mode()"
   ]
  },
  {
   "cell_type": "markdown",
   "id": "442776a6",
   "metadata": {},
   "source": [
    "- As we can see whats most repeated city ,better just fill na with those"
   ]
  },
  {
   "cell_type": "code",
   "execution_count": 18,
   "id": "9c84cf7c",
   "metadata": {},
   "outputs": [],
   "source": [
    "df_c['city']=df_c['city'].fillna(df_c['city'].mode()[0])"
   ]
  },
  {
   "cell_type": "code",
   "execution_count": 19,
   "id": "0478960d",
   "metadata": {},
   "outputs": [
    {
     "data": {
      "text/plain": [
       "0"
      ]
     },
     "execution_count": 19,
     "metadata": {},
     "output_type": "execute_result"
    }
   ],
   "source": [
    "df_c.city.isna().sum()"
   ]
  },
  {
   "cell_type": "code",
   "execution_count": 20,
   "id": "6d646a9f",
   "metadata": {},
   "outputs": [
    {
     "data": {
      "text/plain": [
       "0.0      1672\n",
       "3.0       831\n",
       "14.0      654\n",
       "4.0       632\n",
       "6.0       596\n",
       "         ... \n",
       "309.0       1\n",
       "225.0       1\n",
       "183.0       1\n",
       "92.0        1\n",
       "334.0       1\n",
       "Name: days_since_last_transaction, Length: 360, dtype: int64"
      ]
     },
     "execution_count": 20,
     "metadata": {},
     "output_type": "execute_result"
    }
   ],
   "source": [
    "df_c.days_since_last_transaction.value_counts()"
   ]
  },
  {
   "cell_type": "markdown",
   "id": "467c6ac2",
   "metadata": {},
   "source": [
    "- there is signifiantly large difference in value counts and lots of na value better just assign some huge values like 999"
   ]
  },
  {
   "cell_type": "code",
   "execution_count": 21,
   "id": "33ccbcf2",
   "metadata": {},
   "outputs": [],
   "source": [
    "df_c.days_since_last_transaction=df_c.days_since_last_transaction.fillna(999)"
   ]
  },
  {
   "cell_type": "code",
   "execution_count": 22,
   "id": "9dbd6257",
   "metadata": {},
   "outputs": [
    {
     "data": {
      "text/plain": [
       "0"
      ]
     },
     "execution_count": 22,
     "metadata": {},
     "output_type": "execute_result"
    }
   ],
   "source": [
    "df_c.days_since_last_transaction.isna().sum()"
   ]
  },
  {
   "cell_type": "code",
   "execution_count": 23,
   "id": "ef666522",
   "metadata": {},
   "outputs": [
    {
     "data": {
      "text/plain": [
       "customer_id                       0\n",
       "vintage                           0\n",
       "age                               0\n",
       "gender                            0\n",
       "dependents                        0\n",
       "occupation                        0\n",
       "city                              0\n",
       "customer_nw_category              0\n",
       "branch_code                       0\n",
       "days_since_last_transaction       0\n",
       "current_balance                   0\n",
       "previous_month_end_balance        0\n",
       "average_monthly_balance_prevQ     0\n",
       "average_monthly_balance_prevQ2    0\n",
       "current_month_credit              0\n",
       "previous_month_credit             0\n",
       "current_month_debit               0\n",
       "previous_month_debit              0\n",
       "current_month_balance             0\n",
       "previous_month_balance            0\n",
       "churn                             0\n",
       "dtype: int64"
      ]
     },
     "execution_count": 23,
     "metadata": {},
     "output_type": "execute_result"
    }
   ],
   "source": [
    "df_c.isna().sum()"
   ]
  },
  {
   "cell_type": "markdown",
   "id": "8616eaf9",
   "metadata": {},
   "source": [
    "- All Na value as been sorted out"
   ]
  },
  {
   "cell_type": "markdown",
   "id": "72cd4233",
   "metadata": {},
   "source": [
    "# Data preprocessing"
   ]
  },
  {
   "cell_type": "markdown",
   "id": "524ec235",
   "metadata": {},
   "source": [
    "- since there are more variables with discrete values in data we are gonna go with Logistic regeresion model\n",
    "- For that we need to get data in numerical values with no catorigal data "
   ]
  },
  {
   "cell_type": "code",
   "execution_count": 24,
   "id": "fdde0e51",
   "metadata": {},
   "outputs": [],
   "source": [
    "#changing occupation with get dummies into one not encode\n",
    "df_c=pd.concat([df_c,pd.get_dummies(df_c['occupation'],prefix=str('occupation'),prefix_sep='_')],axis=1)"
   ]
  },
  {
   "cell_type": "code",
   "execution_count": 25,
   "id": "a29a8e1c",
   "metadata": {},
   "outputs": [
    {
     "data": {
      "text/html": [
       "<div>\n",
       "<style scoped>\n",
       "    .dataframe tbody tr th:only-of-type {\n",
       "        vertical-align: middle;\n",
       "    }\n",
       "\n",
       "    .dataframe tbody tr th {\n",
       "        vertical-align: top;\n",
       "    }\n",
       "\n",
       "    .dataframe thead th {\n",
       "        text-align: right;\n",
       "    }\n",
       "</style>\n",
       "<table border=\"1\" class=\"dataframe\">\n",
       "  <thead>\n",
       "    <tr style=\"text-align: right;\">\n",
       "      <th></th>\n",
       "      <th>customer_id</th>\n",
       "      <th>vintage</th>\n",
       "      <th>age</th>\n",
       "      <th>gender</th>\n",
       "      <th>dependents</th>\n",
       "      <th>occupation</th>\n",
       "      <th>city</th>\n",
       "      <th>customer_nw_category</th>\n",
       "      <th>branch_code</th>\n",
       "      <th>days_since_last_transaction</th>\n",
       "      <th>...</th>\n",
       "      <th>current_month_debit</th>\n",
       "      <th>previous_month_debit</th>\n",
       "      <th>current_month_balance</th>\n",
       "      <th>previous_month_balance</th>\n",
       "      <th>churn</th>\n",
       "      <th>occupation_company</th>\n",
       "      <th>occupation_retired</th>\n",
       "      <th>occupation_salaried</th>\n",
       "      <th>occupation_self_employed</th>\n",
       "      <th>occupation_student</th>\n",
       "    </tr>\n",
       "  </thead>\n",
       "  <tbody>\n",
       "    <tr>\n",
       "      <th>0</th>\n",
       "      <td>1</td>\n",
       "      <td>3135</td>\n",
       "      <td>66</td>\n",
       "      <td>0.0</td>\n",
       "      <td>0.0</td>\n",
       "      <td>self_employed</td>\n",
       "      <td>187.0</td>\n",
       "      <td>2</td>\n",
       "      <td>755</td>\n",
       "      <td>224.0</td>\n",
       "      <td>...</td>\n",
       "      <td>0.20</td>\n",
       "      <td>0.20</td>\n",
       "      <td>1458.71</td>\n",
       "      <td>1458.71</td>\n",
       "      <td>0</td>\n",
       "      <td>0</td>\n",
       "      <td>0</td>\n",
       "      <td>0</td>\n",
       "      <td>1</td>\n",
       "      <td>0</td>\n",
       "    </tr>\n",
       "    <tr>\n",
       "      <th>1</th>\n",
       "      <td>2</td>\n",
       "      <td>310</td>\n",
       "      <td>35</td>\n",
       "      <td>0.0</td>\n",
       "      <td>0.0</td>\n",
       "      <td>self_employed</td>\n",
       "      <td>1020.0</td>\n",
       "      <td>2</td>\n",
       "      <td>3214</td>\n",
       "      <td>60.0</td>\n",
       "      <td>...</td>\n",
       "      <td>5486.27</td>\n",
       "      <td>100.56</td>\n",
       "      <td>6496.78</td>\n",
       "      <td>8787.61</td>\n",
       "      <td>0</td>\n",
       "      <td>0</td>\n",
       "      <td>0</td>\n",
       "      <td>0</td>\n",
       "      <td>1</td>\n",
       "      <td>0</td>\n",
       "    </tr>\n",
       "    <tr>\n",
       "      <th>2</th>\n",
       "      <td>4</td>\n",
       "      <td>2356</td>\n",
       "      <td>31</td>\n",
       "      <td>0.0</td>\n",
       "      <td>0.0</td>\n",
       "      <td>salaried</td>\n",
       "      <td>146.0</td>\n",
       "      <td>2</td>\n",
       "      <td>41</td>\n",
       "      <td>999.0</td>\n",
       "      <td>...</td>\n",
       "      <td>6046.73</td>\n",
       "      <td>259.23</td>\n",
       "      <td>5006.28</td>\n",
       "      <td>5070.14</td>\n",
       "      <td>0</td>\n",
       "      <td>0</td>\n",
       "      <td>0</td>\n",
       "      <td>1</td>\n",
       "      <td>0</td>\n",
       "      <td>0</td>\n",
       "    </tr>\n",
       "    <tr>\n",
       "      <th>3</th>\n",
       "      <td>5</td>\n",
       "      <td>478</td>\n",
       "      <td>90</td>\n",
       "      <td>-1.0</td>\n",
       "      <td>0.0</td>\n",
       "      <td>self_employed</td>\n",
       "      <td>1020.0</td>\n",
       "      <td>2</td>\n",
       "      <td>582</td>\n",
       "      <td>147.0</td>\n",
       "      <td>...</td>\n",
       "      <td>0.47</td>\n",
       "      <td>2143.33</td>\n",
       "      <td>2291.91</td>\n",
       "      <td>1669.79</td>\n",
       "      <td>1</td>\n",
       "      <td>0</td>\n",
       "      <td>0</td>\n",
       "      <td>0</td>\n",
       "      <td>1</td>\n",
       "      <td>0</td>\n",
       "    </tr>\n",
       "    <tr>\n",
       "      <th>4</th>\n",
       "      <td>6</td>\n",
       "      <td>2531</td>\n",
       "      <td>42</td>\n",
       "      <td>0.0</td>\n",
       "      <td>2.0</td>\n",
       "      <td>self_employed</td>\n",
       "      <td>1494.0</td>\n",
       "      <td>3</td>\n",
       "      <td>388</td>\n",
       "      <td>58.0</td>\n",
       "      <td>...</td>\n",
       "      <td>588.62</td>\n",
       "      <td>1538.06</td>\n",
       "      <td>1157.15</td>\n",
       "      <td>1677.16</td>\n",
       "      <td>1</td>\n",
       "      <td>0</td>\n",
       "      <td>0</td>\n",
       "      <td>0</td>\n",
       "      <td>1</td>\n",
       "      <td>0</td>\n",
       "    </tr>\n",
       "  </tbody>\n",
       "</table>\n",
       "<p>5 rows × 26 columns</p>\n",
       "</div>"
      ],
      "text/plain": [
       "   customer_id  vintage  age  gender  dependents     occupation    city  \\\n",
       "0            1     3135   66     0.0         0.0  self_employed   187.0   \n",
       "1            2      310   35     0.0         0.0  self_employed  1020.0   \n",
       "2            4     2356   31     0.0         0.0       salaried   146.0   \n",
       "3            5      478   90    -1.0         0.0  self_employed  1020.0   \n",
       "4            6     2531   42     0.0         2.0  self_employed  1494.0   \n",
       "\n",
       "   customer_nw_category  branch_code  days_since_last_transaction  ...  \\\n",
       "0                     2          755                        224.0  ...   \n",
       "1                     2         3214                         60.0  ...   \n",
       "2                     2           41                        999.0  ...   \n",
       "3                     2          582                        147.0  ...   \n",
       "4                     3          388                         58.0  ...   \n",
       "\n",
       "   current_month_debit  previous_month_debit  current_month_balance  \\\n",
       "0                 0.20                  0.20                1458.71   \n",
       "1              5486.27                100.56                6496.78   \n",
       "2              6046.73                259.23                5006.28   \n",
       "3                 0.47               2143.33                2291.91   \n",
       "4               588.62               1538.06                1157.15   \n",
       "\n",
       "   previous_month_balance  churn  occupation_company  occupation_retired  \\\n",
       "0                 1458.71      0                   0                   0   \n",
       "1                 8787.61      0                   0                   0   \n",
       "2                 5070.14      0                   0                   0   \n",
       "3                 1669.79      1                   0                   0   \n",
       "4                 1677.16      1                   0                   0   \n",
       "\n",
       "   occupation_salaried  occupation_self_employed  occupation_student  \n",
       "0                    0                         1                   0  \n",
       "1                    0                         1                   0  \n",
       "2                    1                         0                   0  \n",
       "3                    0                         1                   0  \n",
       "4                    0                         1                   0  \n",
       "\n",
       "[5 rows x 26 columns]"
      ]
     },
     "execution_count": 25,
     "metadata": {},
     "output_type": "execute_result"
    }
   ],
   "source": [
    "df_c.head()"
   ]
  },
  {
   "cell_type": "code",
   "execution_count": 26,
   "id": "1557d8e3",
   "metadata": {},
   "outputs": [
    {
     "data": {
      "text/plain": [
       "<AxesSubplot:>"
      ]
     },
     "execution_count": 26,
     "metadata": {},
     "output_type": "execute_result"
    },
    {
     "data": {
      "image/png": "[encoded data removed]",
      "text/plain": [
       "<Figure size 432x288 with 1 Axes>"
      ]
     },
     "metadata": {
      "needs_background": "light"
     },
     "output_type": "display_data"
    }
   ],
   "source": [
    "df.boxplot()"
   ]
  },
  {
   "cell_type": "markdown",
   "id": "2a2b1964",
   "metadata": {},
   "source": [
    "- as we can see multiple outliers are present in data ,so we gonna use log transformation to scale them down"
   ]
  },
  {
   "cell_type": "code",
   "execution_count": 27,
   "id": "a7281148",
   "metadata": {},
   "outputs": [
    {
     "data": {
      "text/plain": [
       "Index(['customer_id', 'vintage', 'age', 'gender', 'dependents', 'occupation',\n",
       "       'city', 'customer_nw_category', 'branch_code',\n",
       "       'days_since_last_transaction', 'current_balance',\n",
       "       'previous_month_end_balance', 'average_monthly_balance_prevQ',\n",
       "       'average_monthly_balance_prevQ2', 'current_month_credit',\n",
       "       'previous_month_credit', 'current_month_debit', 'previous_month_debit',\n",
       "       'current_month_balance', 'previous_month_balance', 'churn',\n",
       "       'occupation_company', 'occupation_retired', 'occupation_salaried',\n",
       "       'occupation_self_employed', 'occupation_student'],\n",
       "      dtype='object')"
      ]
     },
     "execution_count": 27,
     "metadata": {},
     "output_type": "execute_result"
    }
   ],
   "source": [
    "df_c.columns"
   ]
  },
  {
   "cell_type": "code",
   "execution_count": 28,
   "id": "dd9a118b",
   "metadata": {},
   "outputs": [],
   "source": [
    "colm=['customer_nw_category', 'current_balance',\n",
    "      'previous_month_end_balance', 'average_monthly_balance_prevQ2', 'average_monthly_balance_prevQ',\n",
    "      'current_month_credit','previous_month_credit', 'current_month_debit', \n",
    "      'previous_month_debit','current_month_balance', 'previous_month_balance']\n",
    "for i in colm:\n",
    "    df_c[i] = np.log(df_c[i] + 17000)\n",
    "from sklearn.preprocessing import StandardScaler\n",
    "ss=StandardScaler()\n",
    "scaled=ss.fit_transform(df_c[colm])\n",
    "df_scaled=pd.DataFrame(scaled,columns=colm)\n",
    "\n"
   ]
  },
  {
   "cell_type": "code",
   "execution_count": 29,
   "id": "7ea3f259",
   "metadata": {},
   "outputs": [],
   "source": [
    "df_c1=df_c.copy()\n",
    "df_c1=df_c1.drop(columns=colm,axis=1)\n",
    "df_c1=df_c1.merge(df_scaled,left_index=True,right_index=True,how='left')"
   ]
  },
  {
   "cell_type": "code",
   "execution_count": 30,
   "id": "e568f873",
   "metadata": {},
   "outputs": [
    {
     "data": {
      "text/html": [
       "<div>\n",
       "<style scoped>\n",
       "    .dataframe tbody tr th:only-of-type {\n",
       "        vertical-align: middle;\n",
       "    }\n",
       "\n",
       "    .dataframe tbody tr th {\n",
       "        vertical-align: top;\n",
       "    }\n",
       "\n",
       "    .dataframe thead th {\n",
       "        text-align: right;\n",
       "    }\n",
       "</style>\n",
       "<table border=\"1\" class=\"dataframe\">\n",
       "  <thead>\n",
       "    <tr style=\"text-align: right;\">\n",
       "      <th></th>\n",
       "      <th>customer_id</th>\n",
       "      <th>vintage</th>\n",
       "      <th>age</th>\n",
       "      <th>gender</th>\n",
       "      <th>dependents</th>\n",
       "      <th>occupation</th>\n",
       "      <th>city</th>\n",
       "      <th>branch_code</th>\n",
       "      <th>days_since_last_transaction</th>\n",
       "      <th>churn</th>\n",
       "      <th>...</th>\n",
       "      <th>current_balance</th>\n",
       "      <th>previous_month_end_balance</th>\n",
       "      <th>average_monthly_balance_prevQ2</th>\n",
       "      <th>average_monthly_balance_prevQ</th>\n",
       "      <th>current_month_credit</th>\n",
       "      <th>previous_month_credit</th>\n",
       "      <th>current_month_debit</th>\n",
       "      <th>previous_month_debit</th>\n",
       "      <th>current_month_balance</th>\n",
       "      <th>previous_month_balance</th>\n",
       "    </tr>\n",
       "  </thead>\n",
       "  <tbody>\n",
       "    <tr>\n",
       "      <th>0</th>\n",
       "      <td>1</td>\n",
       "      <td>3135</td>\n",
       "      <td>66</td>\n",
       "      <td>0.0</td>\n",
       "      <td>0.0</td>\n",
       "      <td>self_employed</td>\n",
       "      <td>187.0</td>\n",
       "      <td>755</td>\n",
       "      <td>224.0</td>\n",
       "      <td>0</td>\n",
       "      <td>...</td>\n",
       "      <td>-0.613738</td>\n",
       "      <td>-0.632367</td>\n",
       "      <td>-0.630646</td>\n",
       "      <td>-0.697612</td>\n",
       "      <td>-0.313931</td>\n",
       "      <td>-0.324487</td>\n",
       "      <td>-0.368251</td>\n",
       "      <td>-0.377390</td>\n",
       "      <td>-0.653455</td>\n",
       "      <td>-0.666207</td>\n",
       "    </tr>\n",
       "    <tr>\n",
       "      <th>1</th>\n",
       "      <td>2</td>\n",
       "      <td>310</td>\n",
       "      <td>35</td>\n",
       "      <td>0.0</td>\n",
       "      <td>0.0</td>\n",
       "      <td>self_employed</td>\n",
       "      <td>1020.0</td>\n",
       "      <td>3214</td>\n",
       "      <td>60.0</td>\n",
       "      <td>0</td>\n",
       "      <td>...</td>\n",
       "      <td>0.011267</td>\n",
       "      <td>0.446458</td>\n",
       "      <td>0.949414</td>\n",
       "      <td>0.317595</td>\n",
       "      <td>-0.313852</td>\n",
       "      <td>-0.324410</td>\n",
       "      <td>0.640986</td>\n",
       "      <td>-0.355677</td>\n",
       "      <td>0.149440</td>\n",
       "      <td>0.455680</td>\n",
       "    </tr>\n",
       "    <tr>\n",
       "      <th>2</th>\n",
       "      <td>4</td>\n",
       "      <td>2356</td>\n",
       "      <td>31</td>\n",
       "      <td>0.0</td>\n",
       "      <td>0.0</td>\n",
       "      <td>salaried</td>\n",
       "      <td>146.0</td>\n",
       "      <td>41</td>\n",
       "      <td>999.0</td>\n",
       "      <td>0</td>\n",
       "      <td>...</td>\n",
       "      <td>-0.209651</td>\n",
       "      <td>0.057975</td>\n",
       "      <td>-0.388637</td>\n",
       "      <td>-0.108263</td>\n",
       "      <td>-0.313841</td>\n",
       "      <td>-0.324400</td>\n",
       "      <td>0.729825</td>\n",
       "      <td>-0.321607</td>\n",
       "      <td>-0.068597</td>\n",
       "      <td>-0.066642</td>\n",
       "    </tr>\n",
       "    <tr>\n",
       "      <th>3</th>\n",
       "      <td>5</td>\n",
       "      <td>478</td>\n",
       "      <td>90</td>\n",
       "      <td>-1.0</td>\n",
       "      <td>0.0</td>\n",
       "      <td>self_employed</td>\n",
       "      <td>1020.0</td>\n",
       "      <td>582</td>\n",
       "      <td>147.0</td>\n",
       "      <td>1</td>\n",
       "      <td>...</td>\n",
       "      <td>-0.470836</td>\n",
       "      <td>-0.488530</td>\n",
       "      <td>-0.712855</td>\n",
       "      <td>-0.582976</td>\n",
       "      <td>-0.313872</td>\n",
       "      <td>-0.324429</td>\n",
       "      <td>-0.368193</td>\n",
       "      <td>0.060593</td>\n",
       "      <td>-0.506570</td>\n",
       "      <td>-0.628056</td>\n",
       "    </tr>\n",
       "    <tr>\n",
       "      <th>4</th>\n",
       "      <td>6</td>\n",
       "      <td>2531</td>\n",
       "      <td>42</td>\n",
       "      <td>0.0</td>\n",
       "      <td>2.0</td>\n",
       "      <td>self_employed</td>\n",
       "      <td>1494.0</td>\n",
       "      <td>388</td>\n",
       "      <td>58.0</td>\n",
       "      <td>1</td>\n",
       "      <td>...</td>\n",
       "      <td>-0.708214</td>\n",
       "      <td>-0.642441</td>\n",
       "      <td>-0.554058</td>\n",
       "      <td>-0.663399</td>\n",
       "      <td>-0.313902</td>\n",
       "      <td>-0.175104</td>\n",
       "      <td>-0.245463</td>\n",
       "      <td>-0.057927</td>\n",
       "      <td>-0.708257</td>\n",
       "      <td>-0.626732</td>\n",
       "    </tr>\n",
       "  </tbody>\n",
       "</table>\n",
       "<p>5 rows × 26 columns</p>\n",
       "</div>"
      ],
      "text/plain": [
       "   customer_id  vintage  age  gender  dependents     occupation    city  \\\n",
       "0            1     3135   66     0.0         0.0  self_employed   187.0   \n",
       "1            2      310   35     0.0         0.0  self_employed  1020.0   \n",
       "2            4     2356   31     0.0         0.0       salaried   146.0   \n",
       "3            5      478   90    -1.0         0.0  self_employed  1020.0   \n",
       "4            6     2531   42     0.0         2.0  self_employed  1494.0   \n",
       "\n",
       "   branch_code  days_since_last_transaction  churn  ...  current_balance  \\\n",
       "0          755                        224.0      0  ...        -0.613738   \n",
       "1         3214                         60.0      0  ...         0.011267   \n",
       "2           41                        999.0      0  ...        -0.209651   \n",
       "3          582                        147.0      1  ...        -0.470836   \n",
       "4          388                         58.0      1  ...        -0.708214   \n",
       "\n",
       "   previous_month_end_balance  average_monthly_balance_prevQ2  \\\n",
       "0                   -0.632367                       -0.630646   \n",
       "1                    0.446458                        0.949414   \n",
       "2                    0.057975                       -0.388637   \n",
       "3                   -0.488530                       -0.712855   \n",
       "4                   -0.642441                       -0.554058   \n",
       "\n",
       "   average_monthly_balance_prevQ  current_month_credit  previous_month_credit  \\\n",
       "0                      -0.697612             -0.313931              -0.324487   \n",
       "1                       0.317595             -0.313852              -0.324410   \n",
       "2                      -0.108263             -0.313841              -0.324400   \n",
       "3                      -0.582976             -0.313872              -0.324429   \n",
       "4                      -0.663399             -0.313902              -0.175104   \n",
       "\n",
       "   current_month_debit  previous_month_debit  current_month_balance  \\\n",
       "0            -0.368251             -0.377390              -0.653455   \n",
       "1             0.640986             -0.355677               0.149440   \n",
       "2             0.729825             -0.321607              -0.068597   \n",
       "3            -0.368193              0.060593              -0.506570   \n",
       "4            -0.245463             -0.057927              -0.708257   \n",
       "\n",
       "   previous_month_balance  \n",
       "0               -0.666207  \n",
       "1                0.455680  \n",
       "2               -0.066642  \n",
       "3               -0.628056  \n",
       "4               -0.626732  \n",
       "\n",
       "[5 rows x 26 columns]"
      ]
     },
     "execution_count": 30,
     "metadata": {},
     "output_type": "execute_result"
    }
   ],
   "source": [
    "df_c1.head()"
   ]
  },
  {
   "cell_type": "code",
   "execution_count": 31,
   "id": "adc6a433",
   "metadata": {},
   "outputs": [
    {
     "data": {
      "text/plain": [
       "0    81.467127\n",
       "1    18.532873\n",
       "Name: churn, dtype: float64"
      ]
     },
     "execution_count": 31,
     "metadata": {},
     "output_type": "execute_result"
    }
   ],
   "source": [
    "df_c1.churn.value_counts()/len(df)*100"
   ]
  },
  {
   "cell_type": "markdown",
   "id": "29e615ca",
   "metadata": {},
   "source": [
    "- Target Data is not balanced logistic Model wont be able to perform well on its own"
   ]
  },
  {
   "cell_type": "code",
   "execution_count": 32,
   "id": "0e29de2e",
   "metadata": {},
   "outputs": [],
   "source": [
    "#Separating dependent and independant data\n",
    "Y=df_c1.churn\n",
    "X=df_c1.drop(['customer_id','occupation','churn'],axis=1)"
   ]
  },
  {
   "cell_type": "markdown",
   "id": "1358f102",
   "metadata": {},
   "source": [
    "- Spliting Data in Train and test"
   ]
  },
  {
   "cell_type": "code",
   "execution_count": 33,
   "id": "45763660",
   "metadata": {},
   "outputs": [],
   "source": [
    "from sklearn.model_selection import train_test_split\n",
    "train_x,test_x,train_y,test_y=train_test_split(X,Y,test_size=0.2,random_state=100)\n"
   ]
  },
  {
   "cell_type": "markdown",
   "id": "810a9d52",
   "metadata": {},
   "source": [
    "# Model building"
   ]
  },
  {
   "cell_type": "markdown",
   "id": "2d565b57",
   "metadata": {},
   "source": [
    "- As this is  classification Problem And data has mostly continuos values we first gonna try with Logistic Regressor classifier"
   ]
  },
  {
   "cell_type": "code",
   "execution_count": 34,
   "id": "32be56cc",
   "metadata": {},
   "outputs": [
    {
     "data": {
      "text/plain": [
       "0.8287828078210322"
      ]
     },
     "execution_count": 34,
     "metadata": {},
     "output_type": "execute_result"
    }
   ],
   "source": [
    "LR=LogisticRegression()\n",
    "model=LR.fit(train_x,train_y)\n",
    "LR.score(test_x,test_y)"
   ]
  },
  {
   "cell_type": "code",
   "execution_count": 35,
   "id": "b9c454fc",
   "metadata": {},
   "outputs": [],
   "source": [
    "train_pred=LR.predict(train_x)\n",
    "test_pred=LR.predict(test_x)"
   ]
  },
  {
   "cell_type": "code",
   "execution_count": 36,
   "id": "d40ad238",
   "metadata": {},
   "outputs": [
    {
     "data": {
      "text/plain": [
       "array([[4487,  140],\n",
       "       [ 832,  218]], dtype=int64)"
      ]
     },
     "execution_count": 36,
     "metadata": {},
     "output_type": "execute_result"
    }
   ],
   "source": [
    "cm=confusion_matrix\n",
    "cm(test_y,test_pred)"
   ]
  },
  {
   "cell_type": "code",
   "execution_count": 37,
   "id": "54f77d06",
   "metadata": {},
   "outputs": [
    {
     "data": {
      "image/png": "[encoded data removed]",
      "text/plain": [
       "<Figure size 504x432 with 2 Axes>"
      ]
     },
     "metadata": {
      "needs_background": "light"
     },
     "output_type": "display_data"
    }
   ],
   "source": [
    "label_preds=test_pred\n",
    "cm = confusion_matrix(test_y,label_preds)\n",
    "\n",
    "\n",
    "def plot_confusion_matrix(cm, normalized=True, cmap='bone'):\n",
    "    plt.figure(figsize=[7, 6])\n",
    "    norm_cm = cm\n",
    "    if normalized:\n",
    "        norm_cm = cm.astype('float') / cm.sum(axis=1)[:, np.newaxis]\n",
    "        sns.heatmap(norm_cm, annot=cm, fmt='g', xticklabels=['Predicted: No','Predicted: Yes'], yticklabels=['Actual: No','Actual: Yes'], cmap=cmap)\n",
    "\n",
    "plot_confusion_matrix(cm, ['No', 'Yes'])"
   ]
  },
  {
   "cell_type": "markdown",
   "id": "6cf63643",
   "metadata": {},
   "source": [
    "- Gotta find optimium Threshold value since Default is at 0.5"
   ]
  },
  {
   "cell_type": "markdown",
   "id": "ad53cbe2",
   "metadata": {},
   "source": [
    "# Thresholding "
   ]
  },
  {
   "cell_type": "code",
   "execution_count": 38,
   "id": "94e17a1a",
   "metadata": {},
   "outputs": [],
   "source": [
    "n=[0.1,0.2,0.25,0.3,0.35,0.4,0.45,0.5]\n",
    "train_recall_score=[]\n",
    "test_recall_score=[]\n",
    "train_accuracy_score=[]\n",
    "test_accuracy_score=[]\n",
    "\n",
    "for j in range(0,len(n)):\n",
    "    train_pred=LR.predict_proba(train_x)[:,1]\n",
    "    for i in range (0,len(train_pred)):\n",
    "        if train_pred[i]<n[j]:\n",
    "            train_pred[i]=0\n",
    "        else:\n",
    "            train_pred[i]=1\n",
    "    test_pred=LR.predict_proba(test_x)[:,1]\n",
    "    for i in range (0,len(test_pred)):\n",
    "        if test_pred[i]<n[j]:\n",
    "            test_pred[i]=0\n",
    "        else:\n",
    "            test_pred[i]=1\n",
    "    train_recall_score.append(recall_score(train_y,train_pred))\n",
    "    test_recall_score.append(recall_score(test_y,test_pred))\n",
    "    train_accuracy_score.append(accuracy_score(train_y,train_pred))\n",
    "    test_accuracy_score.append(accuracy_score(test_y,test_pred))\n",
    "    \n",
    "        "
   ]
  },
  {
   "cell_type": "code",
   "execution_count": 39,
   "id": "31ea2936",
   "metadata": {},
   "outputs": [
    {
     "data": {
      "text/plain": [
       "Text(0, 0.5, 'Accuracy & Recall')"
      ]
     },
     "execution_count": 39,
     "metadata": {},
     "output_type": "execute_result"
    },
    {
     "data": {
      "image/png": "[encoded data removed]",
      "text/plain": [
       "<Figure size 432x288 with 1 Axes>"
      ]
     },
     "metadata": {
      "needs_background": "light"
     },
     "output_type": "display_data"
    }
   ],
   "source": [
    "\n",
    "plt.plot(n,test_recall_score,color='g')\n",
    "plt.plot(n,test_accuracy_score,color='b')\n",
    "plt.title('For test Data')\n",
    "plt.legend(('Recall_score','Accuracy_score'))\n",
    "plt.xlabel('Threshold value')\n",
    "plt.ylabel('Accuracy & Recall')\n"
   ]
  },
  {
   "cell_type": "code",
   "execution_count": 40,
   "id": "c52473fb",
   "metadata": {},
   "outputs": [
    {
     "data": {
      "text/plain": [
       "Text(0, 0.5, 'Accuracy & Recall')"
      ]
     },
     "execution_count": 40,
     "metadata": {},
     "output_type": "execute_result"
    },
    {
     "data": {
      "image/png": "[encoded data removed]",
      "text/plain": [
       "<Figure size 432x288 with 1 Axes>"
      ]
     },
     "metadata": {
      "needs_background": "light"
     },
     "output_type": "display_data"
    }
   ],
   "source": [
    "plt.plot(n,train_recall_score,color='r')\n",
    "plt.plot(n,train_accuracy_score,color='b')\n",
    "plt.title('For train Data')\n",
    "plt.legend(('Recall_score','Accuracy_score'))\n",
    "plt.xlabel('Threshold value')\n",
    "plt.ylabel('Accuracy & Recall')\n"
   ]
  },
  {
   "cell_type": "markdown",
   "id": "d22f15d2",
   "metadata": {},
   "source": [
    "- As seen through graphs recall and accuracy seems to balance at 0.2 Threshold for btoh train and testing Data "
   ]
  },
  {
   "cell_type": "markdown",
   "id": "54a687d1",
   "metadata": {},
   "source": [
    "- Lets try with Validation set to see whether we can see difference"
   ]
  },
  {
   "cell_type": "markdown",
   "id": "c4375f89",
   "metadata": {},
   "source": [
    "# Lets predict with Validation Set"
   ]
  },
  {
   "cell_type": "code",
   "execution_count": 41,
   "id": "7e704e98",
   "metadata": {},
   "outputs": [],
   "source": [
    "from sklearn.model_selection import KFold"
   ]
  },
  {
   "cell_type": "code",
   "execution_count": 42,
   "id": "469fc581",
   "metadata": {},
   "outputs": [
    {
     "data": {
      "text/plain": [
       "KFold(n_splits=5, random_state=42, shuffle=True)"
      ]
     },
     "execution_count": 42,
     "metadata": {},
     "output_type": "execute_result"
    }
   ],
   "source": [
    "kf=KFold(n_splits=5,random_state=42,shuffle=True)\n",
    "kf\n",
    "\n",
    "    "
   ]
  },
  {
   "cell_type": "code",
   "execution_count": 43,
   "id": "86e62278",
   "metadata": {},
   "outputs": [],
   "source": [
    "def Cv_Scores(mlmodel,threshold,cols):\n",
    "    test_accuracy=np.array([])\n",
    "    test_precision=np.array([])\n",
    "    test_recall=np.array([])\n",
    "    train_accuracy=np.array([])\n",
    "    train_precision=np.array([])\n",
    "    train_recall=np.array([])\n",
    "    \n",
    "   \n",
    "    for train_index,test_index in kf.split(X[cols],Y):\n",
    "        xtr,xts=X[cols].loc[train_index],X[cols].loc[test_index]\n",
    "        ytr,yts=Y.loc[train_index],Y.loc[test_index]\n",
    "        model=mlmodel\n",
    "        model.fit(xtr,ytr)\n",
    "        xtr_p=model.predict_proba(xtr)[:,1]\n",
    "        xts_p=model.predict_proba(xts)[:,1]\n",
    "        for i in range(0,len(xtr)):\n",
    "            if xtr_p[i]<(threshold):\n",
    "                xtr_p[i]=0\n",
    "            else:\n",
    "                xtr_p[i]=1\n",
    "        for i in range(0,len(xts_p)):\n",
    "            if xts_p[i]<(threshold):\n",
    "                xts_p[i]=0\n",
    "            else:\n",
    "                xts_p[i]=1\n",
    "        train_accuracy=np.append(train_accuracy,accuracy_score(ytr,xtr_p))\n",
    "        train_precision=np.append(train_precision,precision_score(ytr,xtr_p))\n",
    "        train_recall=np.append(train_recall,recall_score(ytr,xtr_p))\n",
    "        test_accuracy=np.append(test_accuracy,accuracy_score(yts,xts_p))\n",
    "        test_precision=np.append(test_precision,precision_score(yts,xts_p))\n",
    "        test_recall=np.append(test_recall,recall_score(yts,xts_p))\n",
    "    \n",
    "    \n",
    "    return train_accuracy.mean(),train_precision.mean(),train_recall.mean(),test_accuracy.mean(),test_precision.mean(),test_recall.mean(),\n",
    "   "
   ]
  },
  {
   "cell_type": "code",
   "execution_count": 53,
   "id": "3037e513",
   "metadata": {},
   "outputs": [],
   "source": [
    "L_TraS=[]\n",
    "L_TrpS=[]\n",
    "L_TrrS=[]\n",
    "L_TeaS=[]\n",
    "L_TepS=[]\n",
    "L_TerS=[]\n",
    "for i in range(1,6):\n",
    "    i=i/10\n",
    "    L_Tra,L_Trp,L_Trr,L_Tea,L_Tep,L_Ter=Cv_Scores(LogisticRegression(),i,X.columns)\n",
    "    L_TraS.append(L_Tra)\n",
    "    L_TrpS.append(L_Trp)\n",
    "    L_TrrS.append(L_Trr)\n",
    "    L_TeaS.append(L_Tea)\n",
    "    L_TepS.append(L_Tep)\n",
    "    L_TerS.append(L_Ter)"
   ]
  },
  {
   "cell_type": "code",
   "execution_count": 59,
   "id": "3870078f",
   "metadata": {},
   "outputs": [
    {
     "data": {
      "image/png": "[encoded data removed]",
      "text/plain": [
       "<Figure size 1008x720 with 1 Axes>"
      ]
     },
     "metadata": {
      "needs_background": "light"
     },
     "output_type": "display_data"
    }
   ],
   "source": [
    "x=[0.1,0.2,0.3,0.4,0.5]\n",
    "plt.figure(figsize=(14,10))\n",
    "plt.plot(x,L_TraS)\n",
    "plt.plot(x,L_TrpS)\n",
    "plt.plot(x,L_TrrS)\n",
    "plt.plot(x,L_TeaS)\n",
    "plt.plot(x,L_TepS)\n",
    "plt.plot(x,L_TerS)\n",
    "plt.title(\"For Logistic_Regression\")\n",
    "plt.ylabel(\"Accuracy\")\n",
    "o=plt.xlabel('Threshold')\n",
    "plt.legend((\"TrAccuracy\",\"TrPrecision\",\"Trrecall\",\"TeAccuracy\",\"TePrecision\",\"Terecall\"))\n",
    "plt.show()"
   ]
  },
  {
   "cell_type": "markdown",
   "id": "eafc3363",
   "metadata": {},
   "source": [
    "- WE can Conclude that because of target Data being Heavly unbalaced Model is heavly biased ,Therefore for optimum Threshold should be choosen as demanded since recall and precision are traded with each other when changing threshold\n"
   ]
  },
  {
   "cell_type": "markdown",
   "id": "227b3c79",
   "metadata": {},
   "source": [
    "# We can try using Backward Feature selection\n",
    "- we use most features that affects the accuracy score\n",
    "- We gonna use RFE ,Reverse feature elimination library to find out rank wise features affecting model"
   ]
  },
  {
   "cell_type": "code",
   "execution_count": 44,
   "id": "7d54d786",
   "metadata": {},
   "outputs": [
    {
     "data": {
      "text/plain": [
       "RFE(estimator=LogisticRegression(), n_features_to_select=1)"
      ]
     },
     "execution_count": 44,
     "metadata": {},
     "output_type": "execute_result"
    }
   ],
   "source": [
    "from sklearn.feature_selection import RFE\n",
    "modl=LogisticRegression()\n",
    "rfe=RFE(estimator=modl,n_features_to_select=1,step=1)\n",
    "rfe.fit(X,Y)"
   ]
  },
  {
   "cell_type": "code",
   "execution_count": 45,
   "id": "65e4742f",
   "metadata": {},
   "outputs": [
    {
     "data": {
      "text/plain": [
       "array([22, 18, 13, 16, 21, 23, 20,  3, 15,  9,  8, 10, 14,  1, 17,  4,  2,\n",
       "       12, 19,  7, 11,  5,  6])"
      ]
     },
     "execution_count": 45,
     "metadata": {},
     "output_type": "execute_result"
    }
   ],
   "source": [
    "rfe.ranking_"
   ]
  },
  {
   "cell_type": "code",
   "execution_count": 46,
   "id": "01fa7ac1",
   "metadata": {},
   "outputs": [],
   "source": [
    "ranking_df = pd.DataFrame()\n",
    "ranking_df['Feature_name'] = X.columns\n",
    "ranking_df['Rank'] = rfe.ranking_"
   ]
  },
  {
   "cell_type": "code",
   "execution_count": 47,
   "id": "05dd2005",
   "metadata": {},
   "outputs": [],
   "source": [
    "ranking_df.sort_values(by='Rank',inplace=True)"
   ]
  },
  {
   "cell_type": "code",
   "execution_count": 48,
   "id": "696319da",
   "metadata": {},
   "outputs": [
    {
     "data": {
      "text/plain": [
       "13                   current_balance\n",
       "16     average_monthly_balance_prevQ\n",
       "7                 occupation_company\n",
       "15    average_monthly_balance_prevQ2\n",
       "21             current_month_balance\n",
       "22            previous_month_balance\n",
       "19               current_month_debit\n",
       "10          occupation_self_employed\n",
       "9                occupation_salaried\n",
       "11                occupation_student\n",
       "Name: Feature_name, dtype: object"
      ]
     },
     "execution_count": 48,
     "metadata": {},
     "output_type": "execute_result"
    }
   ],
   "source": [
    "cols=ranking_df['Feature_name'][:10]\n",
    "cols"
   ]
  },
  {
   "cell_type": "code",
   "execution_count": 60,
   "id": "0c395bfe",
   "metadata": {},
   "outputs": [],
   "source": [
    "L_TraS=[]\n",
    "L_TrpS=[]\n",
    "L_TrrS=[]\n",
    "L_TeaS=[]\n",
    "L_TepS=[]\n",
    "L_TerS=[]\n",
    "for i in range(1,6):\n",
    "    i=i/10\n",
    "    L_Tra,L_Trp,L_Trr,L_Tea,L_Tep,L_Ter=Cv_Scores(LogisticRegression(),i,cols)\n",
    "    L_TraS.append(L_Tra)\n",
    "    L_TrpS.append(L_Trp)\n",
    "    L_TrrS.append(L_Trr)\n",
    "    L_TeaS.append(L_Tea)\n",
    "    L_TepS.append(L_Tep)\n",
    "    L_TerS.append(L_Ter)"
   ]
  },
  {
   "cell_type": "code",
   "execution_count": 62,
   "id": "3b184e60",
   "metadata": {},
   "outputs": [
    {
     "data": {
      "image/png": "[encoded data removed]",
      "text/plain": [
       "<Figure size 504x216 with 1 Axes>"
      ]
     },
     "metadata": {
      "needs_background": "light"
     },
     "output_type": "display_data"
    }
   ],
   "source": [
    "x=[0.1,0.2,0.3,0.4,0.5]\n",
    "plt.figure(figsize=(7,3))\n",
    "plt.plot(x,L_TeaS)\n",
    "plt.plot(x,L_TepS)\n",
    "plt.plot(x,L_TerS)\n",
    "plt.title(\"For Logistic_Regression\")\n",
    "plt.ylabel(\"Accuracy\")\n",
    "o=plt.xlabel('Threshold')\n",
    "plt.legend((\"TeAccuracy\",\"TePrecision\",\"Terecall\"))\n",
    "plt.show()\n"
   ]
  },
  {
   "cell_type": "markdown",
   "id": "2e86a1be",
   "metadata": {},
   "source": [
    "- We can Little bit better accuracy at 0.2 compared to previous all columns prediction"
   ]
  },
  {
   "cell_type": "markdown",
   "id": "e1ae0267",
   "metadata": {},
   "source": [
    "# Lets try with Decision Tree"
   ]
  },
  {
   "cell_type": "code",
   "execution_count": 50,
   "id": "46ff88bf",
   "metadata": {},
   "outputs": [],
   "source": [
    "from sklearn.tree import DecisionTreeClassifier"
   ]
  },
  {
   "cell_type": "markdown",
   "id": "c82a2e10",
   "metadata": {},
   "source": [
    "- Need to get optimum Max depth First"
   ]
  },
  {
   "cell_type": "code",
   "execution_count": 63,
   "id": "e15090c4",
   "metadata": {},
   "outputs": [],
   "source": [
    "D_TraS=[]\n",
    "D_TrpS=[]\n",
    "D_TrrS=[]\n",
    "D_TeaS=[]\n",
    "D_TepS=[]\n",
    "D_TerS=[]\n",
    "for i in range (1,6):\n",
    "    D_Tra,D_Trp,D_Trr,D_Tea,D_Tep,D_Ter=Cv_Scores(DecisionTreeClassifier(max_depth=i),0.5,X.columns)\n",
    "    D_TraS.append(D_Tra)\n",
    "    D_TrpS.append(D_Trp)\n",
    "    D_TrrS.append(D_Trr)\n",
    "    D_TeaS.append(D_Tea)\n",
    "    D_TepS.append(D_Tep)\n",
    "    D_TerS.append(D_Ter)"
   ]
  },
  {
   "cell_type": "code",
   "execution_count": 64,
   "id": "22c19591",
   "metadata": {},
   "outputs": [
    {
     "data": {
      "image/png": "[encoded data removed]",
      "text/plain": [
       "<Figure size 1008x432 with 1 Axes>"
      ]
     },
     "metadata": {
      "needs_background": "light"
     },
     "output_type": "display_data"
    }
   ],
   "source": [
    "plt.figure(figsize=(14,6))\n",
    "plt.plot(range(1,6),D_TraS)\n",
    "plt.plot(range(1,6),D_TrpS)\n",
    "plt.plot(range(1,6),D_TrrS)\n",
    "plt.plot(range(1,6),D_TeaS)\n",
    "plt.plot(range(1,6),D_TepS)\n",
    "plt.plot(range(1,6),D_TerS)\n",
    "\n",
    "plt.ylabel(\"Accuracy\")\n",
    "o=plt.xlabel('Max_Depth')\n",
    "plt.legend((\"TrAccuracy\",\"TrPrecision\",\"Trrecall\",\"TeAccuracy\",\"TePrecision\",\"Terecall\"))\n",
    "plt.show()"
   ]
  },
  {
   "cell_type": "markdown",
   "id": "459ecfc0",
   "metadata": {},
   "source": [
    "- As we see at max depth = 3 we see depth in recall and growth i precision,best result is seem to be at depth 1 or 2 since at  both point we see constant line"
   ]
  },
  {
   "cell_type": "markdown",
   "id": "dc7d8335",
   "metadata": {},
   "source": [
    "# lets compare logistic and decision tree  at different Threshold"
   ]
  },
  {
   "cell_type": "code",
   "execution_count": 65,
   "id": "28222261",
   "metadata": {},
   "outputs": [],
   "source": [
    "D_TraS=[]\n",
    "D_TrpS=[]\n",
    "D_TrrS=[]\n",
    "D_TeaS=[]\n",
    "D_TepS=[]\n",
    "D_TerS=[]\n",
    "for i in range (1,6):\n",
    "    i=i/10\n",
    "    D_Tra,D_Trp,D_Trr,D_Tea,D_Tep,D_Ter=Cv_Scores(DecisionTreeClassifier(max_depth=2),i,X.columns)\n",
    "    D_TraS.append(D_Tra)\n",
    "    D_TrpS.append(D_Trp)\n",
    "    D_TrrS.append(D_Trr)\n",
    "    D_TeaS.append(D_Tea)\n",
    "    D_TepS.append(D_Tep)\n",
    "    D_TerS.append(D_Ter)"
   ]
  },
  {
   "cell_type": "code",
   "execution_count": 66,
   "id": "3a514f7d",
   "metadata": {},
   "outputs": [],
   "source": [
    "L_TraS=[]\n",
    "L_TrpS=[]\n",
    "L_TrrS=[]\n",
    "L_TeaS=[]\n",
    "L_TepS=[]\n",
    "L_TerS=[]\n",
    "for i in range(1,6):\n",
    "    i=i/10\n",
    "    L_Tra,L_Trp,L_Trr,L_Tea,L_Tep,L_Ter=Cv_Scores(LogisticRegression(),i,X.columns)\n",
    "    L_TraS.append(L_Tra)\n",
    "    L_TrpS.append(L_Trp)\n",
    "    L_TrrS.append(L_Trr)\n",
    "    L_TeaS.append(L_Tea)\n",
    "    L_TepS.append(L_Tep)\n",
    "    L_TerS.append(L_Ter)"
   ]
  },
  {
   "cell_type": "code",
   "execution_count": 67,
   "id": "6be99b4b",
   "metadata": {},
   "outputs": [
    {
     "data": {
      "image/png": "[encoded data removed]",
      "text/plain": [
       "<Figure size 504x216 with 1 Axes>"
      ]
     },
     "metadata": {
      "needs_background": "light"
     },
     "output_type": "display_data"
    }
   ],
   "source": [
    "x=[0.1,0.2,0.3,0.4,0.5]\n",
    "plt.figure(figsize=(7,3))\n",
    "plt.plot(x,D_TeaS)\n",
    "plt.plot(x,D_TepS)\n",
    "plt.plot(x,D_TerS)\n",
    "plt.ylabel(\"Accuracy\")\n",
    "plt.title(\"For Decision Tree\")\n",
    "plt.xlabel('MAX_DEAPTH')\n",
    "plt.legend((\"TrAccuracy\",\"TrPrecision\",\"Trrecall\",\"TeAccuracy\",\"TePrecision\",\"Terecall\"))\n",
    "plt.show()"
   ]
  },
  {
   "cell_type": "code",
   "execution_count": 68,
   "id": "5d5f4749",
   "metadata": {},
   "outputs": [
    {
     "data": {
      "image/png": "[encoded data removed]",
      "text/plain": [
       "<Figure size 504x216 with 1 Axes>"
      ]
     },
     "metadata": {
      "needs_background": "light"
     },
     "output_type": "display_data"
    }
   ],
   "source": [
    "x=[0.1,0.2,0.3,0.4,0.5]\n",
    "plt.figure(figsize=(7,3))\n",
    "plt.plot(x,L_TeaS)\n",
    "plt.plot(x,L_TepS)\n",
    "plt.plot(x,L_TerS)\n",
    "plt.title(\"For Logistic_Regression\")\n",
    "plt.ylabel(\"Accuracy\")\n",
    "o=plt.xlabel('Threshold')\n",
    "plt.legend((\"TrAccuracy\",\"TrPrecision\",\"Trrecall\",\"TeAccuracy\",\"TePrecision\",\"Terecall\"))\n",
    "plt.show()\n"
   ]
  },
  {
   "cell_type": "markdown",
   "id": "acf17138",
   "metadata": {},
   "source": [
    "- As We can see Both falls Around 0.2 Threshold both models gives best recall and Accuracy"
   ]
  },
  {
   "cell_type": "code",
   "execution_count": 69,
   "id": "b62f5aba",
   "metadata": {},
   "outputs": [
    {
     "data": {
      "image/png": "[encoded data removed]",
      "text/plain": [
       "<Figure size 504x216 with 1 Axes>"
      ]
     },
     "metadata": {
      "needs_background": "light"
     },
     "output_type": "display_data"
    }
   ],
   "source": [
    "\n",
    "plt.figure(figsize=(7,3))\n",
    "plt.plot(x,L_TeaS)\n",
    "plt.plot(x,L_TerS)\n",
    "plt.plot(x,D_TeaS)\n",
    "plt.plot(x,D_TerS)\n",
    "\n",
    "plt.title(\" Logistic_Regression Vs Decision Tree\")\n",
    "plt.ylabel(\"Accuracy\")\n",
    "o=plt.xlabel('Threshold')\n",
    "plt.legend((\"LTeAccuracy\",\"LTerecall\",\"DTeAccuracy\",\"DTerecall\"))\n",
    "plt.show()"
   ]
  },
  {
   "cell_type": "markdown",
   "id": "bf0b3eb6",
   "metadata": {},
   "source": [
    "- As can be seen Logistic Trades off with accuarcy too fro recall increase at 0.2 threshold\n",
    "- similar behaviour can be seen with  Decision tree shows Fall of recall after 0.2 Threshold and rise of Accuracy "
   ]
  },
  {
   "cell_type": "markdown",
   "id": "d56cfa24",
   "metadata": {},
   "source": [
    "# Lets Check with Top 10 columns we choose "
   ]
  },
  {
   "cell_type": "code",
   "execution_count": 70,
   "id": "5ec6645e",
   "metadata": {},
   "outputs": [],
   "source": [
    "D_TraS=[]\n",
    "D_TrpS=[]\n",
    "D_TrrS=[]\n",
    "D_TeaS=[]\n",
    "D_TepS=[]\n",
    "D_TerS=[]\n",
    "for i in range (1,6):\n",
    "    \n",
    "    D_Tra,D_Trp,D_Trr,D_Tea,D_Tep,D_Ter=Cv_Scores(DecisionTreeClassifier(max_depth=i),0.5,cols)\n",
    "    D_TraS.append(D_Tra)\n",
    "    D_TrpS.append(D_Trp)\n",
    "    D_TrrS.append(D_Trr)\n",
    "    D_TeaS.append(D_Tea)\n",
    "    D_TepS.append(D_Tep)\n",
    "    D_TerS.append(D_Ter)"
   ]
  },
  {
   "cell_type": "code",
   "execution_count": 71,
   "id": "e0d95bee",
   "metadata": {},
   "outputs": [
    {
     "data": {
      "image/png": "[encoded data removed]",
      "text/plain": [
       "<Figure size 504x216 with 1 Axes>"
      ]
     },
     "metadata": {
      "needs_background": "light"
     },
     "output_type": "display_data"
    }
   ],
   "source": [
    "plt.figure(figsize=(7,3))\n",
    "\n",
    "plt.plot(range(1,6),D_TeaS)\n",
    "plt.plot(range(1,6),D_TepS)\n",
    "plt.plot(range(1,6),D_TerS)\n",
    "\n",
    "plt.ylabel(\"Accuracy\")\n",
    "o=plt.xlabel('Max_Depth')\n",
    "plt.legend((\"TeAccuracy\",\"TePrecision\",\"Terecall\"))\n",
    "plt.show()\n"
   ]
  },
  {
   "cell_type": "code",
   "execution_count": 72,
   "id": "7ceb7d1d",
   "metadata": {},
   "outputs": [],
   "source": [
    "D_TraS=[]\n",
    "D_TrpS=[]\n",
    "D_TrrS=[]\n",
    "D_TeaS=[]\n",
    "D_TepS=[]\n",
    "D_TerS=[]\n",
    "for i in range (1,6):\n",
    "    i=i/10\n",
    "    D_Tra,D_Trp,D_Trr,D_Tea,D_Tep,D_Ter=Cv_Scores(DecisionTreeClassifier(max_depth=2),i,cols)\n",
    "    D_TraS.append(D_Tra)\n",
    "    D_TrpS.append(D_Trp)\n",
    "    D_TrrS.append(D_Trr)\n",
    "    D_TeaS.append(D_Tea)\n",
    "    D_TepS.append(D_Tep)\n",
    "    D_TerS.append(D_Ter)"
   ]
  },
  {
   "cell_type": "code",
   "execution_count": 73,
   "id": "a7489b7b",
   "metadata": {},
   "outputs": [
    {
     "data": {
      "image/png": "[encoded data removed]",
      "text/plain": [
       "<Figure size 504x216 with 1 Axes>"
      ]
     },
     "metadata": {
      "needs_background": "light"
     },
     "output_type": "display_data"
    }
   ],
   "source": [
    "plt.figure(figsize=(7,3))\n",
    "\n",
    "plt.plot(range(1,6),D_TeaS)\n",
    "plt.plot(range(1,6),D_TepS)\n",
    "plt.plot(range(1,6),D_TerS)\n",
    "\n",
    "plt.ylabel(\"Accuracy\")\n",
    "o=plt.xlabel('Max_Depth')\n",
    "plt.legend((\"TeAccuracy\",\"TePrecision\",\"Terecall\"))\n",
    "plt.show()"
   ]
  },
  {
   "cell_type": "markdown",
   "id": "40dd1295",
   "metadata": {},
   "source": [
    "- We can Conclude That Getting top !0 calsses gives little better for Logistic Regressor but for Decision Tree there isnt much Difference\n"
   ]
  },
  {
   "cell_type": "code",
   "execution_count": null,
   "id": "0d491d73",
   "metadata": {},
   "outputs": [],
   "source": []
  }
 ],
 "metadata": {
  "kernelspec": {
   "display_name": "Python 3 (ipykernel)",
   "language": "python",
   "name": "python3"
  },
  "language_info": {
   "codemirror_mode": {
    "name": "ipython",
    "version": 3
   },
   "file_extension": ".py",
   "mimetype": "text/x-python",
   "name": "python",
   "nbconvert_exporter": "python",
   "pygments_lexer": "ipython3",
   "version": "3.10.2"
  }
 },
 "nbformat": 4,
 "nbformat_minor": 5
}
